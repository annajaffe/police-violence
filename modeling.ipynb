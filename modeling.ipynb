{
 "cells": [
  {
   "cell_type": "code",
   "execution_count": 1,
   "metadata": {},
   "outputs": [],
   "source": [
    "import numpy as np\n",
    "import pandas as pd\n",
    "import matplotlib.pyplot as plt\n",
    "\n",
    "from sklearn.preprocessing import PolynomialFeatures, StandardScaler, MinMaxScaler, LabelEncoder\n",
    "\n",
    "from sklearn.model_selection import train_test_split, cross_val_score, cross_validate\n",
    "from sklearn.metrics import mean_squared_error, roc_auc_score, accuracy_score\n",
    "from sklearn.inspection import permutation_importance\n",
    "\n",
    "from sklearn.neighbors import KNeighborsClassifier\n",
    "from sklearn.linear_model import LogisticRegression, LogisticRegressionCV\n",
    "from sklearn.tree import DecisionTreeClassifier\n",
    "from sklearn.ensemble import RandomForestClassifier, AdaBoostClassifier\n",
    "from sklearn.neural_network import MLPClassifier\n",
    "\n",
    "import tensorflow as tf"
   ]
  },
  {
   "cell_type": "markdown",
   "metadata": {},
   "source": [
    "## Boilerplate code \n",
    "wapo csv as a template"
   ]
  },
  {
   "cell_type": "code",
   "execution_count": 2,
   "metadata": {},
   "outputs": [
    {
     "name": "stdout",
     "output_type": "stream",
     "text": [
      "Number of victims missing values: 1121\n",
      "Response variable classes: ['A' 'B' 'H' 'N' 'O' 'W']\n"
     ]
    },
    {
     "data": {
      "text/html": [
       "<div>\n",
       "<style scoped>\n",
       "    .dataframe tbody tr th:only-of-type {\n",
       "        vertical-align: middle;\n",
       "    }\n",
       "\n",
       "    .dataframe tbody tr th {\n",
       "        vertical-align: top;\n",
       "    }\n",
       "\n",
       "    .dataframe thead th {\n",
       "        text-align: right;\n",
       "    }\n",
       "</style>\n",
       "<table border=\"1\" class=\"dataframe\">\n",
       "  <thead>\n",
       "    <tr style=\"text-align: right;\">\n",
       "      <th></th>\n",
       "      <th>age</th>\n",
       "      <th>race</th>\n",
       "      <th>signs_of_mental_illness</th>\n",
       "      <th>body_camera</th>\n",
       "      <th>manner_of_death_shot</th>\n",
       "      <th>manner_of_death_shot and Tasered</th>\n",
       "      <th>armed_Airsoft pistol</th>\n",
       "      <th>armed_BB gun</th>\n",
       "      <th>armed_BB gun and vehicle</th>\n",
       "      <th>armed_Taser</th>\n",
       "      <th>...</th>\n",
       "      <th>armed_wrench</th>\n",
       "      <th>gender_F</th>\n",
       "      <th>gender_M</th>\n",
       "      <th>threat_level_attack</th>\n",
       "      <th>threat_level_other</th>\n",
       "      <th>threat_level_undetermined</th>\n",
       "      <th>flee_Car</th>\n",
       "      <th>flee_Foot</th>\n",
       "      <th>flee_Not fleeing</th>\n",
       "      <th>flee_Other</th>\n",
       "    </tr>\n",
       "  </thead>\n",
       "  <tbody>\n",
       "    <tr>\n",
       "      <th>0</th>\n",
       "      <td>53.0</td>\n",
       "      <td>0</td>\n",
       "      <td>1</td>\n",
       "      <td>0</td>\n",
       "      <td>1</td>\n",
       "      <td>0</td>\n",
       "      <td>0</td>\n",
       "      <td>0</td>\n",
       "      <td>0</td>\n",
       "      <td>0</td>\n",
       "      <td>...</td>\n",
       "      <td>0</td>\n",
       "      <td>0</td>\n",
       "      <td>1</td>\n",
       "      <td>1</td>\n",
       "      <td>0</td>\n",
       "      <td>0</td>\n",
       "      <td>0</td>\n",
       "      <td>0</td>\n",
       "      <td>1</td>\n",
       "      <td>0</td>\n",
       "    </tr>\n",
       "    <tr>\n",
       "      <th>1</th>\n",
       "      <td>47.0</td>\n",
       "      <td>5</td>\n",
       "      <td>0</td>\n",
       "      <td>0</td>\n",
       "      <td>1</td>\n",
       "      <td>0</td>\n",
       "      <td>0</td>\n",
       "      <td>0</td>\n",
       "      <td>0</td>\n",
       "      <td>0</td>\n",
       "      <td>...</td>\n",
       "      <td>0</td>\n",
       "      <td>0</td>\n",
       "      <td>1</td>\n",
       "      <td>1</td>\n",
       "      <td>0</td>\n",
       "      <td>0</td>\n",
       "      <td>0</td>\n",
       "      <td>0</td>\n",
       "      <td>1</td>\n",
       "      <td>0</td>\n",
       "    </tr>\n",
       "    <tr>\n",
       "      <th>2</th>\n",
       "      <td>23.0</td>\n",
       "      <td>2</td>\n",
       "      <td>0</td>\n",
       "      <td>0</td>\n",
       "      <td>0</td>\n",
       "      <td>1</td>\n",
       "      <td>0</td>\n",
       "      <td>0</td>\n",
       "      <td>0</td>\n",
       "      <td>0</td>\n",
       "      <td>...</td>\n",
       "      <td>0</td>\n",
       "      <td>0</td>\n",
       "      <td>1</td>\n",
       "      <td>0</td>\n",
       "      <td>1</td>\n",
       "      <td>0</td>\n",
       "      <td>0</td>\n",
       "      <td>0</td>\n",
       "      <td>1</td>\n",
       "      <td>0</td>\n",
       "    </tr>\n",
       "    <tr>\n",
       "      <th>3</th>\n",
       "      <td>32.0</td>\n",
       "      <td>5</td>\n",
       "      <td>1</td>\n",
       "      <td>0</td>\n",
       "      <td>1</td>\n",
       "      <td>0</td>\n",
       "      <td>0</td>\n",
       "      <td>0</td>\n",
       "      <td>0</td>\n",
       "      <td>0</td>\n",
       "      <td>...</td>\n",
       "      <td>0</td>\n",
       "      <td>0</td>\n",
       "      <td>1</td>\n",
       "      <td>1</td>\n",
       "      <td>0</td>\n",
       "      <td>0</td>\n",
       "      <td>0</td>\n",
       "      <td>0</td>\n",
       "      <td>1</td>\n",
       "      <td>0</td>\n",
       "    </tr>\n",
       "    <tr>\n",
       "      <th>4</th>\n",
       "      <td>39.0</td>\n",
       "      <td>2</td>\n",
       "      <td>0</td>\n",
       "      <td>0</td>\n",
       "      <td>1</td>\n",
       "      <td>0</td>\n",
       "      <td>0</td>\n",
       "      <td>0</td>\n",
       "      <td>0</td>\n",
       "      <td>0</td>\n",
       "      <td>...</td>\n",
       "      <td>0</td>\n",
       "      <td>0</td>\n",
       "      <td>1</td>\n",
       "      <td>1</td>\n",
       "      <td>0</td>\n",
       "      <td>0</td>\n",
       "      <td>0</td>\n",
       "      <td>0</td>\n",
       "      <td>1</td>\n",
       "      <td>0</td>\n",
       "    </tr>\n",
       "  </tbody>\n",
       "</table>\n",
       "<p>5 rows × 109 columns</p>\n",
       "</div>"
      ],
      "text/plain": [
       "    age  race  signs_of_mental_illness  body_camera  manner_of_death_shot  \\\n",
       "0  53.0     0                        1            0                     1   \n",
       "1  47.0     5                        0            0                     1   \n",
       "2  23.0     2                        0            0                     0   \n",
       "3  32.0     5                        1            0                     1   \n",
       "4  39.0     2                        0            0                     1   \n",
       "\n",
       "   manner_of_death_shot and Tasered  armed_Airsoft pistol  armed_BB gun  \\\n",
       "0                                 0                     0             0   \n",
       "1                                 0                     0             0   \n",
       "2                                 1                     0             0   \n",
       "3                                 0                     0             0   \n",
       "4                                 0                     0             0   \n",
       "\n",
       "   armed_BB gun and vehicle  armed_Taser  ...  armed_wrench  gender_F  \\\n",
       "0                         0            0  ...             0         0   \n",
       "1                         0            0  ...             0         0   \n",
       "2                         0            0  ...             0         0   \n",
       "3                         0            0  ...             0         0   \n",
       "4                         0            0  ...             0         0   \n",
       "\n",
       "   gender_M  threat_level_attack  threat_level_other  \\\n",
       "0         1                    1                   0   \n",
       "1         1                    1                   0   \n",
       "2         1                    0                   1   \n",
       "3         1                    1                   0   \n",
       "4         1                    1                   0   \n",
       "\n",
       "   threat_level_undetermined  flee_Car  flee_Foot  flee_Not fleeing  \\\n",
       "0                          0         0          0                 1   \n",
       "1                          0         0          0                 1   \n",
       "2                          0         0          0                 1   \n",
       "3                          0         0          0                 1   \n",
       "4                          0         0          0                 1   \n",
       "\n",
       "   flee_Other  \n",
       "0           0  \n",
       "1           0  \n",
       "2           0  \n",
       "3           0  \n",
       "4           0  \n",
       "\n",
       "[5 rows x 109 columns]"
      ]
     },
     "execution_count": 2,
     "metadata": {},
     "output_type": "execute_result"
    }
   ],
   "source": [
    "random_state = 109\n",
    "\n",
    "# load data\n",
    "data = pd.read_csv('data/fatal-police-shootings-data.csv')\n",
    "response, multi_class = 'race', True\n",
    "\n",
    "# drop unnecessary columns\n",
    "cols_to_drop = ['id', 'name', 'date', 'city', 'state', 'longitude', 'latitude', 'is_geocoding_exact']\n",
    "data = data.drop(cols_to_drop, axis=1)\n",
    "total = len(data)\n",
    "\n",
    "# drop nas\n",
    "data = data.dropna()\n",
    "print(f'Number of victims missing values: {total-len(data)}')\n",
    "\n",
    "# convert booleans to integers\n",
    "bools_to_ints = ['signs_of_mental_illness', 'body_camera']\n",
    "data[bools_to_ints] = data[bools_to_ints].astype(int)\n",
    "\n",
    "# convert response variable to 0 and n_classes-1\n",
    "if multi_class:\n",
    "    le = LabelEncoder()\n",
    "    data[response] = le.fit_transform(data[response])\n",
    "    print(f'Response variable classes: {le.classes_}')\n",
    "\n",
    "# convert other variables to dummies\n",
    "data = pd.get_dummies(data)\n",
    "data.head()"
   ]
  },
  {
   "cell_type": "code",
   "execution_count": 3,
   "metadata": {},
   "outputs": [
    {
     "name": "stdout",
     "output_type": "stream",
     "text": [
      "Train size: 0.60\n",
      "Val size: 0.20\n",
      "Test size: 0.20\n"
     ]
    }
   ],
   "source": [
    "# splits\n",
    "rows = len(data)\n",
    "train_size = 0.6\n",
    "val_size = 0.2\n",
    "\n",
    "train, validate, test = np.split(data.sample(frac=1, random_state=random_state), [int(train_size*rows), int((train_size+val_size)*rows)])\n",
    "\n",
    "x_train, y_train = train.drop(response, axis=1), train[response]\n",
    "x_val, y_val = validate.drop(response, axis=1), validate[response]\n",
    "x_test, y_test = test.drop(response, axis=1), test[response]\n",
    "\n",
    "print(f'Train size: {len(train)/rows:.2f}')\n",
    "print(f'Val size: {len(validate)/rows:.2f}')\n",
    "print(f'Test size: {len(test)/rows:.2f}')"
   ]
  },
  {
   "cell_type": "code",
   "execution_count": 4,
   "metadata": {},
   "outputs": [
    {
     "data": {
      "text/plain": [
       "0.4731182795698925"
      ]
     },
     "execution_count": 4,
     "metadata": {},
     "output_type": "execute_result"
    }
   ],
   "source": [
    "random_forest = RandomForestClassifier(random_state=random_state).fit(x_train, y_train)\n",
    "random_forest.score(x_val, y_val)"
   ]
  },
  {
   "cell_type": "code",
   "execution_count": 5,
   "metadata": {},
   "outputs": [],
   "source": [
    "forest_result = permutation_importance(random_forest, x_train, y_train, random_state=random_state)"
   ]
  },
  {
   "cell_type": "code",
   "execution_count": 6,
   "metadata": {
    "scrolled": false
   },
   "outputs": [
    {
     "data": {
      "text/plain": [
       "Text(0.5, 0, 'Permutation Feature Importance')"
      ]
     },
     "execution_count": 6,
     "metadata": {},
     "output_type": "execute_result"
    },
    {
     "data": {
      "image/png": "[encoded data removed]",
      "text/plain": [
       "<Figure size 360x360 with 1 Axes>"
      ]
     },
     "metadata": {
      "needs_background": "light"
     },
     "output_type": "display_data"
    }
   ],
   "source": [
    "plt.figure(figsize=(5,5))\n",
    "\n",
    "tree_importance_sorted_idx = np.argsort(forest_result.importances_mean)[-10:]\n",
    "tree_indices = np.arange(0, len(forest_result.importances_mean[-10:])) + 0.5\n",
    "\n",
    "plt.barh(tree_indices, forest_result.importances_mean[tree_importance_sorted_idx], height=0.7)\n",
    "plt.yticks(tree_indices, x_train.columns[tree_importance_sorted_idx])\n",
    "plt.ylim((0, len(forest_result.importances_mean[-10:])))\n",
    "plt.xlabel(\"Permutation Feature Importance\")"
   ]
  }
 ],
 "metadata": {
  "kernelspec": {
   "display_name": "Python 3",
   "language": "python",
   "name": "python3"
  },
  "language_info": {
   "codemirror_mode": {
    "name": "ipython",
    "version": 3
   },
   "file_extension": ".py",
   "mimetype": "text/x-python",
   "name": "python",
   "nbconvert_exporter": "python",
   "pygments_lexer": "ipython3",
   "version": "3.8.3"
  }
 },
 "nbformat": 4,
 "nbformat_minor": 4
}
